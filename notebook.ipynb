{
 "cells": [
  {
   "cell_type": "code",
   "execution_count": 2,
   "metadata": {
    "collapsed": true
   },
   "outputs": [
    {
     "name": "stdout",
     "output_type": "stream",
     "text": [
      "Evaluating RMSE of algorithm SVD on 5 split(s).\n\n                  Fold 1  Fold 2  Fold 3  Fold 4  Fold 5  Mean    Std     \nRMSE (testset)    0.9348  0.9319  0.9324  0.9435  0.9407  0.9367  0.0047  \nFit time          16.35   16.23   16.51   16.68   15.85   16.32   0.28    \nTest time         0.64    0.81    0.53    0.52    0.61    0.62    0.10    \n"
     ]
    },
    {
     "data": {
      "text/plain": [
       "{'test_rmse': array([0.93479394, 0.93189468, 0.93238552, 0.94354268, 0.94072004]),\n 'fit_time': (16.345374584197998,\n  16.234467267990112,\n  16.5117027759552,\n  16.675023078918457,\n  15.845962762832642),\n 'test_time': (0.6391534805297852,\n  0.8127758502960205,\n  0.5309736728668213,\n  0.5249538421630859,\n  0.6110460758209229)}"
      ]
     },
     "execution_count": 2,
     "metadata": {},
     "output_type": "execute_result"
    }
   ],
   "source": [
    "import json\n",
    "from surprise import SVD\n",
    "from surprise import Dataset\n",
    "from surprise.model_selection import cross_validate\n",
    "\n",
    "data = Dataset.load_builtin('ml-100k')\n",
    "\n",
    "algorithm = SVD()\n",
    "\n",
    "cross_validate(algorithm, data, measures=['RMSE'], cv=5, verbose=True)"
   ]
  }
 ],
 "metadata": {
  "kernelspec": {
   "display_name": "Python 2",
   "language": "python",
   "name": "python2"
  },
  "language_info": {
   "codemirror_mode": {
    "name": "ipython",
    "version": 2
   },
   "file_extension": ".py",
   "mimetype": "text/x-python",
   "name": "python",
   "nbconvert_exporter": "python",
   "pygments_lexer": "ipython2",
   "version": "2.7.6"
  }
 },
 "nbformat": 4,
 "nbformat_minor": 0
}
